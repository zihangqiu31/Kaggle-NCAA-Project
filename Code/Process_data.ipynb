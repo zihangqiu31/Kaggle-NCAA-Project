{
 "cells": [
  {
   "cell_type": "code",
   "execution_count": 1,
   "metadata": {},
   "outputs": [],
   "source": [
    "import pandas as pd\n",
    "import os\n",
    "import numpy as np"
   ]
  },
  {
   "cell_type": "code",
   "execution_count": 2,
   "metadata": {},
   "outputs": [],
   "source": [
    "# path = os.getcwd()\n",
    "path ='C:\\\\Users\\\\luciu\\\\Box Sync\\\\ncaa-march-madness-2020\\\\data\\\\MDataFiles_Stage1'"
   ]
  },
  {
   "cell_type": "code",
   "execution_count": 3,
   "metadata": {
    "scrolled": false
   },
   "outputs": [
    {
     "data": {
      "text/html": [
       "<div>\n",
       "<style scoped>\n",
       "    .dataframe tbody tr th:only-of-type {\n",
       "        vertical-align: middle;\n",
       "    }\n",
       "\n",
       "    .dataframe tbody tr th {\n",
       "        vertical-align: top;\n",
       "    }\n",
       "\n",
       "    .dataframe thead th {\n",
       "        text-align: right;\n",
       "    }\n",
       "</style>\n",
       "<table border=\"1\" class=\"dataframe\">\n",
       "  <thead>\n",
       "    <tr style=\"text-align: right;\">\n",
       "      <th></th>\n",
       "      <th>Season</th>\n",
       "      <th>DayNum</th>\n",
       "      <th>WTeamID</th>\n",
       "      <th>WScore</th>\n",
       "      <th>LTeamID</th>\n",
       "      <th>LScore</th>\n",
       "      <th>WLoc</th>\n",
       "      <th>NumOT</th>\n",
       "      <th>WFGM</th>\n",
       "      <th>WFGA</th>\n",
       "      <th>...</th>\n",
       "      <th>LFGA3</th>\n",
       "      <th>LFTM</th>\n",
       "      <th>LFTA</th>\n",
       "      <th>LOR</th>\n",
       "      <th>LDR</th>\n",
       "      <th>LAst</th>\n",
       "      <th>LTO</th>\n",
       "      <th>LStl</th>\n",
       "      <th>LBlk</th>\n",
       "      <th>LPF</th>\n",
       "    </tr>\n",
       "  </thead>\n",
       "  <tbody>\n",
       "    <tr>\n",
       "      <th>0</th>\n",
       "      <td>2003</td>\n",
       "      <td>134</td>\n",
       "      <td>1421</td>\n",
       "      <td>92</td>\n",
       "      <td>1411</td>\n",
       "      <td>84</td>\n",
       "      <td>N</td>\n",
       "      <td>1</td>\n",
       "      <td>32</td>\n",
       "      <td>69</td>\n",
       "      <td>...</td>\n",
       "      <td>31</td>\n",
       "      <td>14</td>\n",
       "      <td>31</td>\n",
       "      <td>17</td>\n",
       "      <td>28</td>\n",
       "      <td>16</td>\n",
       "      <td>15</td>\n",
       "      <td>5</td>\n",
       "      <td>0</td>\n",
       "      <td>22</td>\n",
       "    </tr>\n",
       "    <tr>\n",
       "      <th>1</th>\n",
       "      <td>2003</td>\n",
       "      <td>136</td>\n",
       "      <td>1112</td>\n",
       "      <td>80</td>\n",
       "      <td>1436</td>\n",
       "      <td>51</td>\n",
       "      <td>N</td>\n",
       "      <td>0</td>\n",
       "      <td>31</td>\n",
       "      <td>66</td>\n",
       "      <td>...</td>\n",
       "      <td>16</td>\n",
       "      <td>7</td>\n",
       "      <td>7</td>\n",
       "      <td>8</td>\n",
       "      <td>26</td>\n",
       "      <td>12</td>\n",
       "      <td>17</td>\n",
       "      <td>10</td>\n",
       "      <td>3</td>\n",
       "      <td>15</td>\n",
       "    </tr>\n",
       "    <tr>\n",
       "      <th>2</th>\n",
       "      <td>2003</td>\n",
       "      <td>136</td>\n",
       "      <td>1113</td>\n",
       "      <td>84</td>\n",
       "      <td>1272</td>\n",
       "      <td>71</td>\n",
       "      <td>N</td>\n",
       "      <td>0</td>\n",
       "      <td>31</td>\n",
       "      <td>59</td>\n",
       "      <td>...</td>\n",
       "      <td>28</td>\n",
       "      <td>14</td>\n",
       "      <td>21</td>\n",
       "      <td>20</td>\n",
       "      <td>22</td>\n",
       "      <td>11</td>\n",
       "      <td>12</td>\n",
       "      <td>2</td>\n",
       "      <td>5</td>\n",
       "      <td>18</td>\n",
       "    </tr>\n",
       "    <tr>\n",
       "      <th>3</th>\n",
       "      <td>2003</td>\n",
       "      <td>136</td>\n",
       "      <td>1141</td>\n",
       "      <td>79</td>\n",
       "      <td>1166</td>\n",
       "      <td>73</td>\n",
       "      <td>N</td>\n",
       "      <td>0</td>\n",
       "      <td>29</td>\n",
       "      <td>53</td>\n",
       "      <td>...</td>\n",
       "      <td>17</td>\n",
       "      <td>12</td>\n",
       "      <td>17</td>\n",
       "      <td>14</td>\n",
       "      <td>17</td>\n",
       "      <td>20</td>\n",
       "      <td>21</td>\n",
       "      <td>6</td>\n",
       "      <td>6</td>\n",
       "      <td>21</td>\n",
       "    </tr>\n",
       "    <tr>\n",
       "      <th>4</th>\n",
       "      <td>2003</td>\n",
       "      <td>136</td>\n",
       "      <td>1143</td>\n",
       "      <td>76</td>\n",
       "      <td>1301</td>\n",
       "      <td>74</td>\n",
       "      <td>N</td>\n",
       "      <td>1</td>\n",
       "      <td>27</td>\n",
       "      <td>64</td>\n",
       "      <td>...</td>\n",
       "      <td>21</td>\n",
       "      <td>15</td>\n",
       "      <td>20</td>\n",
       "      <td>10</td>\n",
       "      <td>26</td>\n",
       "      <td>16</td>\n",
       "      <td>14</td>\n",
       "      <td>5</td>\n",
       "      <td>8</td>\n",
       "      <td>19</td>\n",
       "    </tr>\n",
       "  </tbody>\n",
       "</table>\n",
       "<p>5 rows × 34 columns</p>\n",
       "</div>"
      ],
      "text/plain": [
       "   Season  DayNum  WTeamID  WScore  LTeamID  LScore WLoc  NumOT  WFGM  WFGA  \\\n",
       "0    2003     134     1421      92     1411      84    N      1    32    69   \n",
       "1    2003     136     1112      80     1436      51    N      0    31    66   \n",
       "2    2003     136     1113      84     1272      71    N      0    31    59   \n",
       "3    2003     136     1141      79     1166      73    N      0    29    53   \n",
       "4    2003     136     1143      76     1301      74    N      1    27    64   \n",
       "\n",
       "   ...  LFGA3  LFTM  LFTA  LOR  LDR  LAst  LTO  LStl  LBlk  LPF  \n",
       "0  ...     31    14    31   17   28    16   15     5     0   22  \n",
       "1  ...     16     7     7    8   26    12   17    10     3   15  \n",
       "2  ...     28    14    21   20   22    11   12     2     5   18  \n",
       "3  ...     17    12    17   14   17    20   21     6     6   21  \n",
       "4  ...     21    15    20   10   26    16   14     5     8   19  \n",
       "\n",
       "[5 rows x 34 columns]"
      ]
     },
     "execution_count": 3,
     "metadata": {},
     "output_type": "execute_result"
    }
   ],
   "source": [
    "#load data\n",
    "ncaa_detail = pd.read_csv(path+'\\\\MNCAATourneyDetailedResults.csv')\n",
    "reg_detail = pd.read_csv(path+'\\\\MRegularSeasonDetailedResults.csv')\n",
    "#second_ = pd.read_csv(path+'MSecondaryTourneyCompactResults.csv')\n",
    "\n",
    "seed = pd.read_csv(path+'\\\\MNCAATourneySeeds.csv')\n",
    "coach = pd.read_csv(path+'\\\\MTeamCoaches.csv')\n",
    "ncaa_detail.head()"
   ]
  },
  {
   "cell_type": "code",
   "execution_count": 4,
   "metadata": {},
   "outputs": [],
   "source": [
    "def process(games):\n",
    "    # change location to bool\n",
    "    games['WLoc'] = games['WLoc'].replace(\"H\",1)\n",
    "    games['WLoc'] = games['WLoc'].replace(\"A\",-1)\n",
    "    games['WLoc'] = games['WLoc'].replace(\"N\",0)\n",
    "    # add score difference\n",
    "    Score_dif = games['WScore']-games['LScore']\n",
    "    Score_dif = pd.Series(Score_dif)\n",
    "    games['ScoreDif'] = Score_dif\n",
    "    # rebounds chance\n",
    "    WRC = (games['WOR']+games['WDR'])/(games['WOR']+games['WDR']+games['LOR']+games['LDR'])\n",
    "    LRC = 1-WRC\n",
    "    games['WRC'] = WRC\n",
    "    games['LRC'] = LRC\n",
    "    # Field Score accuracy, 3 points accuracy, score ability\n",
    "    WFAc = games['WFGM']/games['WFGA']\n",
    "    LFAc = games['LFGM']/games['LFGA']\n",
    "    WFAc3 = games['WFGM3']/games['WFGA3']\n",
    "    LFAc3 = games['LFGM3']/games['LFGA3']\n",
    "    WSAc = (games['WFGM']*2+games['WFGM3'])/(games['WFGA']*2+games['WFGA3'])\n",
    "    LSAc = (games['LFGM']*2+games['LFGM3'])/(games['LFGA']*2+games['LFGA3'])\n",
    "    games['WFAc'] = WFAc\n",
    "    games['WFAc3'] = WFAc3\n",
    "    games['WSAc'] = WSAc\n",
    "    games['LFAc'] = LFAc\n",
    "    games['LFAc3'] = LFAc3\n",
    "    games['LSAc'] = LSAc\n",
    "    # alter col name and order\n",
    "    win_games = games[['Season', 'DayNum', 'WTeamID', 'WScore', 'LTeamID', 'LScore', 'WLoc','NumOT',\n",
    "                        'WFAc','WFAc3','WSAc','WRC','WAst', 'WStl', 'WBlk', \n",
    "                        'LFAc','LFAc3','LSAc','LRC','LAst', 'LStl', 'LBlk', 'ScoreDif']].copy()\n",
    "    lose_games = games[['Season', 'DayNum', 'LTeamID', 'LScore', 'WTeamID', 'WScore','WLoc','NumOT',\n",
    "                        'LFAc','LFAc3','LSAc','LRC','LAst', 'LStl', 'LBlk',\n",
    "                        'WFAc','WFAc3','WSAc','WRC','WAst', 'WStl', 'WBlk',  'ScoreDif']].copy()\n",
    "    lose_games.loc[:,'WLoc'] = -lose_games['WLoc']\n",
    "    lose_games.loc[:,'ScoreDif'] = -lose_games['ScoreDif']\n",
    "    win_games.columns = ['Season', 'DayNum', 'T1', 'T1Score', 'T2', 'T2Score', 'Loc','NumOT',\n",
    "                        'T1FAc','T1FAc3','T1SAc','T1RC','T1Ast', 'T1Stl', 'T1Blk', \n",
    "                        'T2FAc','T2FAc3','T2SAc','T2RC','T2Ast', 'T2Stl', 'T2Blk', 'ScoreDif']\n",
    "    lose_games.columns = ['Season', 'DayNum', 'T1', 'T1Score', 'T2', 'T2Score', 'Loc','NumOT',\n",
    "                        'T1FAc','T1FAc3','T1SAc','T1RC','T1Ast', 'T1Stl', 'T1Blk', \n",
    "                        'T2FAc','T2FAc3','T2SAc','T2RC','T2Ast', 'T2Stl', 'T2Blk', 'ScoreDif']\n",
    "    return pd.concat([win_games,lose_games])"
   ]
  },
  {
   "cell_type": "code",
   "execution_count": 5,
   "metadata": {},
   "outputs": [],
   "source": [
    "reg = process(reg_detail)\n",
    "ncaa = process(ncaa_detail)"
   ]
  },
  {
   "cell_type": "code",
   "execution_count": 6,
   "metadata": {},
   "outputs": [],
   "source": [
    "# add season mean and var\n",
    "reg_ = reg[reg['DayNum']>=111] # only use last three weeks\n",
    "season_mean = reg_[['Season','T1','T1FAc','T1FAc3','T1SAc','T1RC','T1Ast','T1Stl','T1Blk','ScoreDif']].groupby(['Season','T1']).mean()\n",
    "season_var = reg_[['Season','T1','T1FAc','T1FAc3','T1SAc','T1RC']].groupby(['Season','T1']).var()\n",
    "mean_var = pd.merge(season_mean,season_var,left_on = ['T1','Season'],right_on = ['T1','Season'],how = 'left')\n",
    "mean_var = mean_var.reset_index()\n",
    "# copy T1 and T2\n",
    "mean_var2 = mean_var.copy()\n",
    "mean_var.columns = ['T1', 'Season', 'T1MFAc', 'T1MFAc3', 'T1MSAc', 'T1MRC', 'T1MAst',\n",
    "       'T1MStl', 'T1MBlk', 'T1MScoreDif', 'T1VFAc', 'T1VFAc3', 'T1VSAc','T1VRC']\n",
    "mean_var2.columns = ['T2', 'Season', 'T2MFAc', 'T2MFAc3', 'T2MSAc', 'T2MRC', 'T2MAst',\n",
    "       'T2MStl', 'T2MBlk', 'T2MScoreDif', 'T2VFAc', 'T2VFAc3', 'T2VSAc','T2VRC']\n"
   ]
  },
  {
   "cell_type": "code",
   "execution_count": 7,
   "metadata": {},
   "outputs": [],
   "source": [
    "# combine ncaa reg\n",
    "ncaa_add1 = pd.merge(ncaa,mean_var,left_on = ['T1','Season'],right_on = ['T1','Season'],how = 'left')\n",
    "ncaa_season = pd.merge(ncaa_add1,mean_var2,left_on = ['T2','Season'],right_on = ['T2','Season'],how = 'left')"
   ]
  },
  {
   "cell_type": "code",
   "execution_count": 8,
   "metadata": {},
   "outputs": [],
   "source": [
    "# add seed dif\n",
    "seed2 = seed.copy()\n",
    "seed.columns = ['Season', 'T1Seed', 'T1']\n",
    "seed2.columns = ['Season', 'T2Seed', 'T2']\n",
    "all_games = pd.merge(ncaa_season,seed,left_on = ['T1','Season'], right_on = ['T1','Season'],how = 'left')\n",
    "all_games = pd.merge(all_games,seed2,left_on = ['T2','Season'], right_on = ['T2','Season'],how = 'left')\n",
    "all_games['T1Seed'] = all_games.T1Seed.str.extract('(\\d+)').fillna(0).astype('int64')\n",
    "all_games['T2Seed'] = all_games.T2Seed.str.extract('(\\d+)').fillna(0).astype('int64')\n",
    "all_games['SeedDif'] = all_games['T1Seed']-all_games['T2Seed']"
   ]
  },
  {
   "cell_type": "code",
   "execution_count": 9,
   "metadata": {},
   "outputs": [
    {
     "data": {
      "text/plain": [
       "Index(['Season', 'DayNum', 'T1', 'T1Score', 'T2', 'T2Score', 'Loc', 'NumOT',\n",
       "       'T1FAc', 'T1FAc3', 'T1SAc', 'T1RC', 'T1Ast', 'T1Stl', 'T1Blk', 'T2FAc',\n",
       "       'T2FAc3', 'T2SAc', 'T2RC', 'T2Ast', 'T2Stl', 'T2Blk', 'ScoreDif',\n",
       "       'T1MFAc', 'T1MFAc3', 'T1MSAc', 'T1MRC', 'T1MAst', 'T1MStl', 'T1MBlk',\n",
       "       'T1MScoreDif', 'T1VFAc', 'T1VFAc3', 'T1VSAc', 'T1VRC', 'T2MFAc',\n",
       "       'T2MFAc3', 'T2MSAc', 'T2MRC', 'T2MAst', 'T2MStl', 'T2MBlk',\n",
       "       'T2MScoreDif', 'T2VFAc', 'T2VFAc3', 'T2VSAc', 'T2VRC', 'T1Seed',\n",
       "       'T2Seed', 'SeedDif'],\n",
       "      dtype='object')"
      ]
     },
     "execution_count": 9,
     "metadata": {},
     "output_type": "execute_result"
    }
   ],
   "source": [
    "all_games.columns"
   ]
  },
  {
   "cell_type": "code",
   "execution_count": 10,
   "metadata": {},
   "outputs": [],
   "source": [
    "# move output last col\n",
    "# drop score\n",
    "data = all_games[['Season', 'T1', 'T2','ScoreDif',\n",
    "       'T1MFAc', 'T1MFAc3', 'T1MSAc', 'T1MRC', 'T1MAst', 'T1MStl', 'T1MBlk',\n",
    "       'T1MScoreDif', 'T1VFAc', 'T1VFAc3', 'T1VSAc', 'T1VRC', 'T1Seed',\n",
    "       'T2MFAc','T2MFAc3', 'T2MSAc', 'T2MRC', 'T2MAst', 'T2MStl', 'T2MBlk',\n",
    "       'T2MScoreDif', 'T2VFAc', 'T2VFAc3', 'T2VSAc', 'T2VRC', \n",
    "       'T2Seed', 'SeedDif']].copy()"
   ]
  },
  {
   "cell_type": "code",
   "execution_count": 18,
   "metadata": {},
   "outputs": [],
   "source": [
    "# data.to_csv(r'C:\\\\Users\\\\luciu\\\\Box Sync\\\\ncaa-march-madness-2020\\\\code\\processed_pd.csv', index = False)\n",
    "np.savetxt(\"processed_np.csv\", data.values, delimiter=\",\")"
   ]
  },
  {
   "cell_type": "code",
   "execution_count": 19,
   "metadata": {},
   "outputs": [],
   "source": [
    "## data preprocessing end"
   ]
  },
  {
   "cell_type": "code",
   "execution_count": null,
   "metadata": {},
   "outputs": [],
   "source": []
  },
  {
   "cell_type": "code",
   "execution_count": 63,
   "metadata": {},
   "outputs": [],
   "source": [
    "## prepare submission features\n",
    "# read to int in dataframe\n",
    "submission = pd.read_csv('C:\\\\Users\\\\luciu\\\\Box Sync\\\\ncaa-march-madness-2020\\\\data\\\\MSampleSubmissionStage1_2020.csv')\n",
    "sub = np.array(submission['ID'].str.split('_').tolist()).astype(int)\n",
    "sub = pd.DataFrame(data = sub)\n",
    "sub.columns = ['Season','T1','T2']"
   ]
  },
  {
   "cell_type": "code",
   "execution_count": 64,
   "metadata": {},
   "outputs": [],
   "source": [
    "# combine with season info\n",
    "team_info = data[['Season', 'T1',\n",
    "       'T1MFAc', 'T1MFAc3', 'T1MSAc', 'T1MRC', 'T1MAst', 'T1MStl', 'T1MBlk',\n",
    "       'T1MScoreDif', 'T1VFAc', 'T1VFAc3', 'T1VSAc', 'T1VRC', 'T1Seed',]].copy()\n",
    "team_info = team_info.groupby(['Season','T1']).mean().reset_index()\n",
    "sub = pd.merge(sub,team_info,left_on = ['T1','Season'],right_on = ['T1','Season'],how = 'left')\n",
    "sub = pd.merge(sub,team_info,left_on = ['T2','Season'],right_on = ['T1','Season'],how = 'left')"
   ]
  },
  {
   "cell_type": "code",
   "execution_count": 65,
   "metadata": {},
   "outputs": [],
   "source": [
    "# modify columns and col_names\n",
    "sub = sub.drop(['T1_y'],axis = 1)\n",
    "sub.columns = ['Season', 'T1', 'T2',\n",
    "       'T1MFAc', 'T1MFAc3', 'T1MSAc', 'T1MRC', 'T1MAst', 'T1MStl', 'T1MBlk',\n",
    "       'T1MScoreDif', 'T1VFAc', 'T1VFAc3', 'T1VSAc', 'T1VRC', 'T1Seed',\n",
    "       'T2MFAc','T2MFAc3', 'T2MSAc', 'T2MRC', 'T2MAst', 'T2MStl', 'T2MBlk',\n",
    "       'T2MScoreDif', 'T2VFAc', 'T2VFAc3', 'T2VSAc', 'T2VRC', \n",
    "       'T2Seed']\n",
    "sub['SeedDif'] = sub['T1Seed']-sub['T2Seed']"
   ]
  },
  {
   "cell_type": "code",
   "execution_count": 66,
   "metadata": {},
   "outputs": [],
   "source": [
    "np.savetxt(\"submission_input.csv\", sub, delimiter=\",\")"
   ]
  },
  {
   "cell_type": "code",
   "execution_count": null,
   "metadata": {},
   "outputs": [],
   "source": []
  }
 ],
 "metadata": {
  "kernelspec": {
   "display_name": "Python 3",
   "language": "python",
   "name": "python3"
  },
  "language_info": {
   "codemirror_mode": {
    "name": "ipython",
    "version": 3
   },
   "file_extension": ".py",
   "mimetype": "text/x-python",
   "name": "python",
   "nbconvert_exporter": "python",
   "pygments_lexer": "ipython3",
   "version": "3.7.3"
  }
 },
 "nbformat": 4,
 "nbformat_minor": 2
}
